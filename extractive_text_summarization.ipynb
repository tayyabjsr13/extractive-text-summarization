{
  "cells": [
    {
      "cell_type": "markdown",
      "metadata": {
        "id": "cHTch_oTl6Po"
      },
      "source": [
        "# Install libraries"
      ]
    },
    {
      "cell_type": "code",
      "execution_count": 1,
      "metadata": {
        "colab": {
          "base_uri": "https://localhost:8080/"
        },
        "id": "33br8tlOm_cf",
        "outputId": "74d20d3d-a07a-4d9a-c31b-b83712387faa"
      },
      "outputs": [
        {
          "name": "stderr",
          "output_type": "stream",
          "text": [
            "[nltk_data] Downloading package punkt to /root/nltk_data...\n",
            "[nltk_data]   Unzipping tokenizers/punkt.zip.\n"
          ]
        },
        {
          "data": {
            "text/plain": [
              "True"
            ]
          },
          "execution_count": 1,
          "metadata": {},
          "output_type": "execute_result"
        }
      ],
      "source": [
        "import numpy as np\n",
        "import pandas as pd\n",
        "import nltk\n",
        "nltk.download('punkt')\n"
      ]
    },
    {
      "cell_type": "markdown",
      "metadata": {
        "id": "_Mge00dToQVc"
      },
      "source": [
        "## Load data in colab"
      ]
    },
    {
      "cell_type": "code",
      "execution_count": 2,
      "metadata": {
        "colab": {
          "base_uri": "https://localhost:8080/",
          "height": 73
        },
        "id": "KKYzxT-uoqAL",
        "outputId": "34bef9e5-a5c3-4dc6-d9ec-471ece6aaf9a"
      },
      "outputs": [
        {
          "data": {
            "text/html": [
              "\n",
              "     <input type=\"file\" id=\"files-88f02565-3a9e-443c-823e-4be8aa735ea8\" name=\"files[]\" multiple disabled\n",
              "        style=\"border:none\" />\n",
              "     <output id=\"result-88f02565-3a9e-443c-823e-4be8aa735ea8\">\n",
              "      Upload widget is only available when the cell has been executed in the\n",
              "      current browser session. Please rerun this cell to enable.\n",
              "      </output>\n",
              "      <script>// Copyright 2017 Google LLC\n",
              "//\n",
              "// Licensed under the Apache License, Version 2.0 (the \"License\");\n",
              "// you may not use this file except in compliance with the License.\n",
              "// You may obtain a copy of the License at\n",
              "//\n",
              "//      http://www.apache.org/licenses/LICENSE-2.0\n",
              "//\n",
              "// Unless required by applicable law or agreed to in writing, software\n",
              "// distributed under the License is distributed on an \"AS IS\" BASIS,\n",
              "// WITHOUT WARRANTIES OR CONDITIONS OF ANY KIND, either express or implied.\n",
              "// See the License for the specific language governing permissions and\n",
              "// limitations under the License.\n",
              "\n",
              "/**\n",
              " * @fileoverview Helpers for google.colab Python module.\n",
              " */\n",
              "(function(scope) {\n",
              "function span(text, styleAttributes = {}) {\n",
              "  const element = document.createElement('span');\n",
              "  element.textContent = text;\n",
              "  for (const key of Object.keys(styleAttributes)) {\n",
              "    element.style[key] = styleAttributes[key];\n",
              "  }\n",
              "  return element;\n",
              "}\n",
              "\n",
              "// Max number of bytes which will be uploaded at a time.\n",
              "const MAX_PAYLOAD_SIZE = 100 * 1024;\n",
              "\n",
              "function _uploadFiles(inputId, outputId) {\n",
              "  const steps = uploadFilesStep(inputId, outputId);\n",
              "  const outputElement = document.getElementById(outputId);\n",
              "  // Cache steps on the outputElement to make it available for the next call\n",
              "  // to uploadFilesContinue from Python.\n",
              "  outputElement.steps = steps;\n",
              "\n",
              "  return _uploadFilesContinue(outputId);\n",
              "}\n",
              "\n",
              "// This is roughly an async generator (not supported in the browser yet),\n",
              "// where there are multiple asynchronous steps and the Python side is going\n",
              "// to poll for completion of each step.\n",
              "// This uses a Promise to block the python side on completion of each step,\n",
              "// then passes the result of the previous step as the input to the next step.\n",
              "function _uploadFilesContinue(outputId) {\n",
              "  const outputElement = document.getElementById(outputId);\n",
              "  const steps = outputElement.steps;\n",
              "\n",
              "  const next = steps.next(outputElement.lastPromiseValue);\n",
              "  return Promise.resolve(next.value.promise).then((value) => {\n",
              "    // Cache the last promise value to make it available to the next\n",
              "    // step of the generator.\n",
              "    outputElement.lastPromiseValue = value;\n",
              "    return next.value.response;\n",
              "  });\n",
              "}\n",
              "\n",
              "/**\n",
              " * Generator function which is called between each async step of the upload\n",
              " * process.\n",
              " * @param {string} inputId Element ID of the input file picker element.\n",
              " * @param {string} outputId Element ID of the output display.\n",
              " * @return {!Iterable<!Object>} Iterable of next steps.\n",
              " */\n",
              "function* uploadFilesStep(inputId, outputId) {\n",
              "  const inputElement = document.getElementById(inputId);\n",
              "  inputElement.disabled = false;\n",
              "\n",
              "  const outputElement = document.getElementById(outputId);\n",
              "  outputElement.innerHTML = '';\n",
              "\n",
              "  const pickedPromise = new Promise((resolve) => {\n",
              "    inputElement.addEventListener('change', (e) => {\n",
              "      resolve(e.target.files);\n",
              "    });\n",
              "  });\n",
              "\n",
              "  const cancel = document.createElement('button');\n",
              "  inputElement.parentElement.appendChild(cancel);\n",
              "  cancel.textContent = 'Cancel upload';\n",
              "  const cancelPromise = new Promise((resolve) => {\n",
              "    cancel.onclick = () => {\n",
              "      resolve(null);\n",
              "    };\n",
              "  });\n",
              "\n",
              "  // Wait for the user to pick the files.\n",
              "  const files = yield {\n",
              "    promise: Promise.race([pickedPromise, cancelPromise]),\n",
              "    response: {\n",
              "      action: 'starting',\n",
              "    }\n",
              "  };\n",
              "\n",
              "  cancel.remove();\n",
              "\n",
              "  // Disable the input element since further picks are not allowed.\n",
              "  inputElement.disabled = true;\n",
              "\n",
              "  if (!files) {\n",
              "    return {\n",
              "      response: {\n",
              "        action: 'complete',\n",
              "      }\n",
              "    };\n",
              "  }\n",
              "\n",
              "  for (const file of files) {\n",
              "    const li = document.createElement('li');\n",
              "    li.append(span(file.name, {fontWeight: 'bold'}));\n",
              "    li.append(span(\n",
              "        `(${file.type || 'n/a'}) - ${file.size} bytes, ` +\n",
              "        `last modified: ${\n",
              "            file.lastModifiedDate ? file.lastModifiedDate.toLocaleDateString() :\n",
              "                                    'n/a'} - `));\n",
              "    const percent = span('0% done');\n",
              "    li.appendChild(percent);\n",
              "\n",
              "    outputElement.appendChild(li);\n",
              "\n",
              "    const fileDataPromise = new Promise((resolve) => {\n",
              "      const reader = new FileReader();\n",
              "      reader.onload = (e) => {\n",
              "        resolve(e.target.result);\n",
              "      };\n",
              "      reader.readAsArrayBuffer(file);\n",
              "    });\n",
              "    // Wait for the data to be ready.\n",
              "    let fileData = yield {\n",
              "      promise: fileDataPromise,\n",
              "      response: {\n",
              "        action: 'continue',\n",
              "      }\n",
              "    };\n",
              "\n",
              "    // Use a chunked sending to avoid message size limits. See b/62115660.\n",
              "    let position = 0;\n",
              "    do {\n",
              "      const length = Math.min(fileData.byteLength - position, MAX_PAYLOAD_SIZE);\n",
              "      const chunk = new Uint8Array(fileData, position, length);\n",
              "      position += length;\n",
              "\n",
              "      const base64 = btoa(String.fromCharCode.apply(null, chunk));\n",
              "      yield {\n",
              "        response: {\n",
              "          action: 'append',\n",
              "          file: file.name,\n",
              "          data: base64,\n",
              "        },\n",
              "      };\n",
              "\n",
              "      let percentDone = fileData.byteLength === 0 ?\n",
              "          100 :\n",
              "          Math.round((position / fileData.byteLength) * 100);\n",
              "      percent.textContent = `${percentDone}% done`;\n",
              "\n",
              "    } while (position < fileData.byteLength);\n",
              "  }\n",
              "\n",
              "  // All done.\n",
              "  yield {\n",
              "    response: {\n",
              "      action: 'complete',\n",
              "    }\n",
              "  };\n",
              "}\n",
              "\n",
              "scope.google = scope.google || {};\n",
              "scope.google.colab = scope.google.colab || {};\n",
              "scope.google.colab._files = {\n",
              "  _uploadFiles,\n",
              "  _uploadFilesContinue,\n",
              "};\n",
              "})(self);\n",
              "</script> "
            ],
            "text/plain": [
              "<IPython.core.display.HTML object>"
            ]
          },
          "metadata": {},
          "output_type": "display_data"
        },
        {
          "name": "stdout",
          "output_type": "stream",
          "text": [
            "Saving tennis_articles.csv to tennis_articles.csv\n"
          ]
        }
      ],
      "source": [
        "from google.colab import files\n",
        "uploaded = files.upload()"
      ]
    },
    {
      "cell_type": "markdown",
      "metadata": {
        "id": "Rm1SqpOno0sv"
      },
      "source": [
        "## Check uploaded data"
      ]
    },
    {
      "cell_type": "code",
      "execution_count": 3,
      "metadata": {
        "colab": {
          "base_uri": "https://localhost:8080/"
        },
        "id": "pYpouKqRpBT6",
        "outputId": "ccde0d4a-a3ab-44ef-9157-ef493a766785"
      },
      "outputs": [
        {
          "name": "stdout",
          "output_type": "stream",
          "text": [
            "Uploaded file : tennis_articles.csv with size 17253 bytes\n"
          ]
        }
      ],
      "source": [
        "for file_name in uploaded.keys():\n",
        "  print(f'Uploaded file : {file_name} with size {len(uploaded[file_name])} bytes')"
      ]
    },
    {
      "cell_type": "markdown",
      "metadata": {
        "id": "G9sK5KYqply3"
      },
      "source": [
        "## Read data"
      ]
    },
    {
      "cell_type": "code",
      "execution_count": 4,
      "metadata": {
        "colab": {
          "base_uri": "https://localhost:8080/",
          "height": 206
        },
        "id": "V5SM17yxQwuF",
        "outputId": "ed3e8323-2467-4099-820c-5731d40a3f33"
      },
      "outputs": [
        {
          "data": {
            "text/html": [
              "\n",
              "  <div id=\"df-f08380cb-4731-4dee-b006-066bf4ac37f3\">\n",
              "    <div class=\"colab-df-container\">\n",
              "      <div>\n",
              "<style scoped>\n",
              "    .dataframe tbody tr th:only-of-type {\n",
              "        vertical-align: middle;\n",
              "    }\n",
              "\n",
              "    .dataframe tbody tr th {\n",
              "        vertical-align: top;\n",
              "    }\n",
              "\n",
              "    .dataframe thead th {\n",
              "        text-align: right;\n",
              "    }\n",
              "</style>\n",
              "<table border=\"1\" class=\"dataframe\">\n",
              "  <thead>\n",
              "    <tr style=\"text-align: right;\">\n",
              "      <th></th>\n",
              "      <th>article_id</th>\n",
              "      <th>article_title</th>\n",
              "      <th>article_text</th>\n",
              "      <th>source</th>\n",
              "    </tr>\n",
              "  </thead>\n",
              "  <tbody>\n",
              "    <tr>\n",
              "      <th>0</th>\n",
              "      <td>1</td>\n",
              "      <td>I do not have friends in tennis, says Maria Sh...</td>\n",
              "      <td>Maria Sharapova has basically no friends as te...</td>\n",
              "      <td>https://www.tennisworldusa.org/tennis/news/Mar...</td>\n",
              "    </tr>\n",
              "    <tr>\n",
              "      <th>1</th>\n",
              "      <td>2</td>\n",
              "      <td>Federer defeats Medvedev to advance to 14th Sw...</td>\n",
              "      <td>BASEL, Switzerland (AP)  Roger Federer advanc...</td>\n",
              "      <td>http://www.tennis.com/pro-game/2018/10/copil-s...</td>\n",
              "    </tr>\n",
              "    <tr>\n",
              "      <th>2</th>\n",
              "      <td>3</td>\n",
              "      <td>Tennis: Roger Federer ignored deadline set by ...</td>\n",
              "      <td>Roger Federer has revealed that organisers of ...</td>\n",
              "      <td>https://scroll.in/field/899938/tennis-roger-fe...</td>\n",
              "    </tr>\n",
              "    <tr>\n",
              "      <th>3</th>\n",
              "      <td>4</td>\n",
              "      <td>Nishikori to face off against Anderson in Vien...</td>\n",
              "      <td>Kei Nishikori will try to end his long losing ...</td>\n",
              "      <td>http://www.tennis.com/pro-game/2018/10/nishiko...</td>\n",
              "    </tr>\n",
              "    <tr>\n",
              "      <th>4</th>\n",
              "      <td>5</td>\n",
              "      <td>Roger Federer has made this huge change to ten...</td>\n",
              "      <td>Federer, 37, first broke through on tour over ...</td>\n",
              "      <td>https://www.express.co.uk/sport/tennis/1036101...</td>\n",
              "    </tr>\n",
              "  </tbody>\n",
              "</table>\n",
              "</div>\n",
              "      <button class=\"colab-df-convert\" onclick=\"convertToInteractive('df-f08380cb-4731-4dee-b006-066bf4ac37f3')\"\n",
              "              title=\"Convert this dataframe to an interactive table.\"\n",
              "              style=\"display:none;\">\n",
              "        \n",
              "  <svg xmlns=\"http://www.w3.org/2000/svg\" height=\"24px\"viewBox=\"0 0 24 24\"\n",
              "       width=\"24px\">\n",
              "    <path d=\"M0 0h24v24H0V0z\" fill=\"none\"/>\n",
              "    <path d=\"M18.56 5.44l.94 2.06.94-2.06 2.06-.94-2.06-.94-.94-2.06-.94 2.06-2.06.94zm-11 1L8.5 8.5l.94-2.06 2.06-.94-2.06-.94L8.5 2.5l-.94 2.06-2.06.94zm10 10l.94 2.06.94-2.06 2.06-.94-2.06-.94-.94-2.06-.94 2.06-2.06.94z\"/><path d=\"M17.41 7.96l-1.37-1.37c-.4-.4-.92-.59-1.43-.59-.52 0-1.04.2-1.43.59L10.3 9.45l-7.72 7.72c-.78.78-.78 2.05 0 2.83L4 21.41c.39.39.9.59 1.41.59.51 0 1.02-.2 1.41-.59l7.78-7.78 2.81-2.81c.8-.78.8-2.07 0-2.86zM5.41 20L4 18.59l7.72-7.72 1.47 1.35L5.41 20z\"/>\n",
              "  </svg>\n",
              "      </button>\n",
              "      \n",
              "  <style>\n",
              "    .colab-df-container {\n",
              "      display:flex;\n",
              "      flex-wrap:wrap;\n",
              "      gap: 12px;\n",
              "    }\n",
              "\n",
              "    .colab-df-convert {\n",
              "      background-color: #E8F0FE;\n",
              "      border: none;\n",
              "      border-radius: 50%;\n",
              "      cursor: pointer;\n",
              "      display: none;\n",
              "      fill: #1967D2;\n",
              "      height: 32px;\n",
              "      padding: 0 0 0 0;\n",
              "      width: 32px;\n",
              "    }\n",
              "\n",
              "    .colab-df-convert:hover {\n",
              "      background-color: #E2EBFA;\n",
              "      box-shadow: 0px 1px 2px rgba(60, 64, 67, 0.3), 0px 1px 3px 1px rgba(60, 64, 67, 0.15);\n",
              "      fill: #174EA6;\n",
              "    }\n",
              "\n",
              "    [theme=dark] .colab-df-convert {\n",
              "      background-color: #3B4455;\n",
              "      fill: #D2E3FC;\n",
              "    }\n",
              "\n",
              "    [theme=dark] .colab-df-convert:hover {\n",
              "      background-color: #434B5C;\n",
              "      box-shadow: 0px 1px 3px 1px rgba(0, 0, 0, 0.15);\n",
              "      filter: drop-shadow(0px 1px 2px rgba(0, 0, 0, 0.3));\n",
              "      fill: #FFFFFF;\n",
              "    }\n",
              "  </style>\n",
              "\n",
              "      <script>\n",
              "        const buttonEl =\n",
              "          document.querySelector('#df-f08380cb-4731-4dee-b006-066bf4ac37f3 button.colab-df-convert');\n",
              "        buttonEl.style.display =\n",
              "          google.colab.kernel.accessAllowed ? 'block' : 'none';\n",
              "\n",
              "        async function convertToInteractive(key) {\n",
              "          const element = document.querySelector('#df-f08380cb-4731-4dee-b006-066bf4ac37f3');\n",
              "          const dataTable =\n",
              "            await google.colab.kernel.invokeFunction('convertToInteractive',\n",
              "                                                     [key], {});\n",
              "          if (!dataTable) return;\n",
              "\n",
              "          const docLinkHtml = 'Like what you see? Visit the ' +\n",
              "            '<a target=\"_blank\" href=https://colab.research.google.com/notebooks/data_table.ipynb>data table notebook</a>'\n",
              "            + ' to learn more about interactive tables.';\n",
              "          element.innerHTML = '';\n",
              "          dataTable['output_type'] = 'display_data';\n",
              "          await google.colab.output.renderOutput(dataTable, element);\n",
              "          const docLink = document.createElement('div');\n",
              "          docLink.innerHTML = docLinkHtml;\n",
              "          element.appendChild(docLink);\n",
              "        }\n",
              "      </script>\n",
              "    </div>\n",
              "  </div>\n",
              "  "
            ],
            "text/plain": [
              "   article_id                                      article_title  \\\n",
              "0           1  I do not have friends in tennis, says Maria Sh...   \n",
              "1           2  Federer defeats Medvedev to advance to 14th Sw...   \n",
              "2           3  Tennis: Roger Federer ignored deadline set by ...   \n",
              "3           4  Nishikori to face off against Anderson in Vien...   \n",
              "4           5  Roger Federer has made this huge change to ten...   \n",
              "\n",
              "                                        article_text  \\\n",
              "0  Maria Sharapova has basically no friends as te...   \n",
              "1  BASEL, Switzerland (AP)  Roger Federer advanc...   \n",
              "2  Roger Federer has revealed that organisers of ...   \n",
              "3  Kei Nishikori will try to end his long losing ...   \n",
              "4  Federer, 37, first broke through on tour over ...   \n",
              "\n",
              "                                              source  \n",
              "0  https://www.tennisworldusa.org/tennis/news/Mar...  \n",
              "1  http://www.tennis.com/pro-game/2018/10/copil-s...  \n",
              "2  https://scroll.in/field/899938/tennis-roger-fe...  \n",
              "3  http://www.tennis.com/pro-game/2018/10/nishiko...  \n",
              "4  https://www.express.co.uk/sport/tennis/1036101...  "
            ]
          },
          "execution_count": 4,
          "metadata": {},
          "output_type": "execute_result"
        }
      ],
      "source": [
        "df = pd.read_csv(file_name, encoding='unicode_escape')\n",
        "df.head()"
      ]
    },
    {
      "cell_type": "code",
      "execution_count": 17,
      "metadata": {
        "colab": {
          "base_uri": "https://localhost:8080/",
          "height": 122
        },
        "id": "2Esc5uu8Q64b",
        "outputId": "f90dfed7-3afc-426e-8bbb-b6a6b9ec0bde"
      },
      "outputs": [
        {
          "data": {
            "application/vnd.google.colaboratory.intrinsic+json": {
              "type": "string"
            },
            "text/plain": [
              "\"Maria Sharapova has basically no friends as tennis players on the WTA Tour. The Russian player has no problems in openly speaking about it and in a recent interview she said: 'I don't really hide any feelings too much. I think everyone knows this is my job here. When I'm on the courts or when I'm on the court playing, I'm a competitor and I want to beat every single person whether they're in the locker room or across the net. So I'm not the one to strike up a conversation about the weather and know that in the next few minutes I have to go and try to win a tennis match. I'm a pretty competitive girl. I say my hellos, but I'm not sending any players flowers as well. Uhm, I'm not really friendly or close to many players. I have not a lot of friends away from the courts.' When she said she is not really close to a lot of players, is that something strategic that she is doing? Is it different on the men's tour than the women's tour? 'No, not at all. I think just because you're in the same sport doesn't mean that you have to be friends with everyone just because you're categorized, you're a tennis player, so you're going to get along with tennis players. I think every person has different interests. I have friends that have completely different jobs and interests, and I've met them in very different parts of my life. I think everyone just thinks because we're tennis players we should be the greatest of friends. But ultimately tennis is just a very small part of what we do. There are so many other things that we're interested in, that we do.' ALSO READ: Maria Sharapova reveals how tennis keeps her motivated.\""
            ]
          },
          "execution_count": 17,
          "metadata": {},
          "output_type": "execute_result"
        }
      ],
      "source": [
        "df['article_text'][0]"
      ]
    },
    {
      "cell_type": "code",
      "execution_count": 6,
      "metadata": {
        "id": "afC1hfZoRqw7"
      },
      "outputs": [],
      "source": [
        "from nltk.tokenize import sent_tokenize"
      ]
    },
    {
      "cell_type": "code",
      "execution_count": 7,
      "metadata": {
        "colab": {
          "base_uri": "https://localhost:8080/"
        },
        "id": "_iBJKUfVSzpI",
        "outputId": "7564bfcd-7c8c-4d44-8bfd-12328a905305"
      },
      "outputs": [
        {
          "name": "stdout",
          "output_type": "stream",
          "text": [
            "['Maria Sharapova has basically no friends as tennis players on the WTA Tour.', \"The Russian player has no problems in openly speaking about it and in a recent interview she said: 'I don't really hide any feelings too much.\", 'I think everyone knows this is my job here.', \"When I'm on the courts or when I'm on the court playing, I'm a competitor and I want to beat every single person whether they're in the locker room or across the net.\", \"So I'm not the one to strike up a conversation about the weather and know that in the next few minutes I have to go and try to win a tennis match.\"]\n"
          ]
        }
      ],
      "source": [
        "sentences = []\n",
        "for para in df['article_text']:\n",
        "  sentences.append(sent_tokenize(para))\n",
        "# print(sentences)\n",
        "sentences = [y for x in sentences for y in x]\n",
        "print(sentences[:5])"
      ]
    },
    {
      "cell_type": "markdown",
      "metadata": {
        "id": "amHLafJtZnSN"
      },
      "source": [
        "## Download Glove WordEmbeddings"
      ]
    },
    {
      "cell_type": "code",
      "execution_count": 8,
      "metadata": {
        "colab": {
          "base_uri": "https://localhost:8080/"
        },
        "id": "5EJa00IyaXii",
        "outputId": "cf6ad723-de47-4023-b590-77ea2afa5dc0"
      },
      "outputs": [
        {
          "name": "stdout",
          "output_type": "stream",
          "text": [
            "--2022-10-18 11:16:33--  http://nlp.stanford.edu/data/glove.6B.zip\n",
            "Resolving nlp.stanford.edu (nlp.stanford.edu)... 171.64.67.140\n",
            "Connecting to nlp.stanford.edu (nlp.stanford.edu)|171.64.67.140|:80... connected.\n",
            "HTTP request sent, awaiting response... 302 Found\n",
            "Location: https://nlp.stanford.edu/data/glove.6B.zip [following]\n",
            "--2022-10-18 11:16:33--  https://nlp.stanford.edu/data/glove.6B.zip\n",
            "Connecting to nlp.stanford.edu (nlp.stanford.edu)|171.64.67.140|:443... connected.\n",
            "HTTP request sent, awaiting response... 301 Moved Permanently\n",
            "Location: https://downloads.cs.stanford.edu/nlp/data/glove.6B.zip [following]\n",
            "--2022-10-18 11:16:33--  https://downloads.cs.stanford.edu/nlp/data/glove.6B.zip\n",
            "Resolving downloads.cs.stanford.edu (downloads.cs.stanford.edu)... 171.64.64.22\n",
            "Connecting to downloads.cs.stanford.edu (downloads.cs.stanford.edu)|171.64.64.22|:443... connected.\n",
            "HTTP request sent, awaiting response... 200 OK\n",
            "Length: 862182613 (822M) [application/zip]\n",
            "Saving to: ‘glove.6B.zip’\n",
            "\n",
            "glove.6B.zip        100%[===================>] 822.24M  5.02MB/s    in 2m 39s  \n",
            "\n",
            "2022-10-18 11:19:13 (5.16 MB/s) - ‘glove.6B.zip’ saved [862182613/862182613]\n",
            "\n",
            "Archive:  glove.6B.zip\n",
            "  inflating: glove.6B.50d.txt        \n",
            "  inflating: glove.6B.100d.txt       \n",
            "  inflating: glove.6B.200d.txt       \n",
            "  inflating: glove.6B.300d.txt       \n"
          ]
        }
      ],
      "source": [
        "!wget http://nlp.stanford.edu/data/glove.6B.zip\n",
        "!unzip glove*.zip"
      ]
    },
    {
      "cell_type": "markdown",
      "metadata": {
        "id": "sdrGVuPodZcI"
      },
      "source": [
        "## Extract word vectors"
      ]
    },
    {
      "cell_type": "code",
      "execution_count": 9,
      "metadata": {
        "colab": {
          "base_uri": "https://localhost:8080/"
        },
        "id": "SDrqUkB1aYZ2",
        "outputId": "8db72a3b-0707-44f2-87bf-f84ea68d4819"
      },
      "outputs": [
        {
          "data": {
            "text/plain": [
              "400000"
            ]
          },
          "execution_count": 9,
          "metadata": {},
          "output_type": "execute_result"
        }
      ],
      "source": [
        "word_embeddings = {}\n",
        "f = open('glove.6B.100d.txt', encoding='utf-8')\n",
        "for line in f:\n",
        "  values = line.split()\n",
        "  word = values[0]\n",
        "  coef = np.asarray(values[1:], dtype='float32')\n",
        "  word_embeddings[word] = coef\n",
        "len(word_embeddings)"
      ]
    },
    {
      "cell_type": "markdown",
      "metadata": {
        "id": "vNVznC7McKiH"
      },
      "source": [
        "## Text preprocessing"
      ]
    },
    {
      "cell_type": "code",
      "execution_count": 37,
      "metadata": {
        "colab": {
          "base_uri": "https://localhost:8080/"
        },
        "id": "wdvU2hRJclOZ",
        "outputId": "0fd616d4-c984-494a-99fa-ce78c7ef9fb6"
      },
      "outputs": [
        {
          "name": "stdout",
          "output_type": "stream",
          "text": [
            "['maria sharapova basically friends tennis players wta tour', 'russian player problems openly speaking recent interview said really hide feelings much', 'think everyone knows job', 'courts court playing competitor want beat every single person whether locker room across net', 'one strike conversation weather know next minutes go try win tennis match', 'pretty competitive girl', 'say hellos sending players flowers well', 'uhm really friendly close many players', 'lot friends away courts', 'said really close lot players something strategic', 'different men tour women tour', '', 'think sport mean friends everyone categorized tennis player going get along tennis players', 'think every person different interests', 'friends completely different jobs interests met different parts life', 'think everyone thinks tennis players greatest friends', 'ultimately tennis small part', 'many things interested', 'also read maria sharapova reveals tennis keeps motivated', 'basel switzerland ap roger federer advanced th swiss indoors final career beating seventh seeded daniil medvedev saturday', 'seeking ninth title hometown event th overall federer play th ranked marius copil sunday', 'federer dominated th ranked medvedev first match point chance break serve', 'dropped serve love let another match point slip medvedev next service game netting backhand', 'clinched fourth chance medvedev netted baseline', 'copil upset expectations federer final alexander zverev win fifth ranked german earlier semifinal', 'romanian aims first title arriving basel without career win top opponent', 'copil two also beating', 'marin cilic second round', 'copil fired aces past zverev never dropped serve clinching hours forehand volley winner break zverev second time semifinal', 'came two rounds qualifying last weekend reach basel main draw including beating zverev older brother mischa', 'federer easier time previous match medvedev three setter shanghai two weeks ago', 'roger federer revealed organisers launched condensed davis cup gave three days decide would commit controversial competition', 'speaking swiss indoors tournament play sunday final romanian qualifier marius copil world number three said given impossibly short time frame make decision opted commitment', 'left three days decide federer said', 'time consult people consult', 'could make decision time told wanted time grand slam champion voiced doubts wisdom one week format introduced organisers kosmos promised international tennis federation billion prize money next quarter century', 'competition set feature countries november finals madrid next year replace classic home away ties played four times per year decades', 'kosmos headed barcelona footballer gerard pique hoping fellow spaniard rafael nadal play upcoming event', 'novak djokovic said give precedence atp intended launch defunct world team cup january various australian venues', 'major players feel big event late november combined one january australian open mean much tennis little rest', 'federer said earlier month shanghai chances playing davis cup non existent', 'highly doubt course', 'see happens said', 'think designed anyhow', 'designed future generation players argentina britain received wild cards new look event compete along four semi finalists teams win qualifying rounds next february', 'like kind pressure federer said deadline kosmos handed', 'kei nishikori try end long losing streak atp finals kevin anderson go second title year erste bank open sunday', 'fifth seeded nishikori reached third final beating mikhail kukushkin kazakhstan semifinals', 'winner atp events nishikori triumphed since winning memphis february', 'lost eight straight finals since', 'second seeded anderson defeated fernando verdasco', 'anderson shot fifth career title second year winning new york february', 'nishikori leads anderson career matchups south african previous meeting year', 'victory sunday anderson qualify atp finals', 'currently ninth place nishikori win could move within points cut eight man event london next month', 'nishikori held serve throughout kukushkin came qualifying', 'used first break point close first set going second wrapping win first match point', 'verdasco anderson hit nine aces opening set', 'spaniard broke anderson twice second get another chance south african serve final set', 'federer first broke tour two decades ago since gone enjoy glittering career', 'time grand slam winner chasing th atp title swiss indoors week faces jan lennard struff second round thursday pm bst', 'davenport enjoyed success late third final major tournament win came australian open', 'claims mentality professional tennis players slowly began change new millennium', 'seems pretty friendly right said davenport', 'think really nice environment great atmosphere especially veteran players helping younger players', 'pleasant atmosphere say around locker rooms', 'felt like best weeks get know players playing fed cup weeks olympic weeks necessarily tournaments', 'even though maybe smaller teams still think kept quite bit', 'always really feel like mid years huge shift attitudes top players friendly giving lot players like roger coming', 'felt like really kind changed people little bit definitely lot quiet started become better meanwhile federer hoping improve service game hunts ninth swiss indoors title week', 'serve well first round opponent filip kranjovic federer said', 'think misfiring corners hitting lines enough', 'clearly make life difficult still break points things could ended quickly today even though best serve percentage stats', 'maybe exactly caught eventually', 'getting used', 'first rounds tricky', 'nadal played tennis since forced retire us open semi finals juan martin del porto knee injury', 'world forced miss spain davis cup clash france asian hard court season', 'atp world tour finals due begin next month nadal ready prove fitness season ending event arena', 'nadal flew paris friday footage paris masters official twitter account shows spaniard smiling strides onto court practice', 'paris masters draw made nadal start campaign tuesday wednesday either fernando verdasco jeremy chardy', 'nadal could play defending champion jack sock third round potential quarter final either borna coric dominic thiem', 'nadal appearance paris big boost tournament organisers could see roger federer withdraw', 'federer action swiss indoors basel reaches final could pull paris bid stay fresh london', 'stands federer draw scheduled face either former world milos raonic jo wilfried tsonga second round', 'federer projected route paris final could also lead matches kevin anderson novak djokovic', 'djokovic could play marco cecchinato second round', 'british kyle edmund th seed paris get underway round two either karen khachanov filip krajinovic', 'tennis giveth tennis taketh away', 'end season finally sight many players defending losing huge chunks points singapore zhuhai london podcast co hosts nina pantic irina falconi discuss art defending points', 'secret jack sock struggled singles court year record', 'could lose points next weeks instead focusing negative perspective', 'let also forget two grand slam doubles triumphs season', 'two players stefanos tsitsipas kyle edmund first career atp titles last week', 'big deal never forget first', 'irina looks back wta title win bogota tells unforgettable story semifinal drama', 'singapore one biggest storylines aside matches course court coaching debate', 'nina irina give opinions coaching look like future tours', 'played golf last week todd reid', 'picked half hour early sleep', 'slept specific', 'bender anything days past', 'former wimbledon junior champion full hope excited getting life back together troubled years touch go battle pancreatitis', 'pleased said grinding eight par front nine royal northbridge club sydney smashing egg bacon roll halfway house', 'players rare sporting gifts modest return would unacceptable', 'reid marker em enough bogeys one well made par broomstick putter vindication recent decision renew membership nearby bankstown', 'exhausted spending half round deep bushes searching ball well two golfers never met incredibly giving designated driver asked mind going straight home signing could rest little heading work', 'fourteen years sharing centre court roger federer third round australian open reid running counter coaching kids sadly never mine suburban sydney matraville tennis squash centre run father bob beautiful mother sandra herselfa former professional', 'quite fall grace prodigious talent afforded word spread new york times', 'sponsors world feet reid mentored nick bollettieri fashioned likes andre agassi maria sharapova monica seles jim courier world', 'reid earmarked top injuries illness cruel career', 'taking salvation bottle reid found dead tuesday aged', 'never got happened told aap last week', 'senior career got legs reid derailed debilitating bout glandular fever', 'life changing setback hit weeks teenage wonder boy announced arrival grand slam threat throwing rod laver arena fighting five set second round win sargis sargsian', 'epic victory set showdown federer would go win first australian open', 'golden boy said relationship tennis australia', 'even give tickets open davis cup pick cusp world reid complaints lingering sense might', 'backed last showingat melbourne park string wins elites including french open champion world gaston gaudio roland garros runner martin verkerk illness struck', 'nice trajectorythen reid recalled got sick think could started pushing towards second week slams knows duringa comeback attempt five years later reid added bernard tomic us open federer slayer john millman list career scalps', 'one best backhands think going around millman told aap', 'fondest memory probably coming back spain father todd trying order ham cheese tomato sandwich aussie english ever heard among lesser known achievements even significantto injured reid effort reach final manly seaside prestigious christmas time event backin day likes legends rod laver ken rosewall frank sedgman john bromwich lew hoad neal fraser fred stolle evonne goolagong australia last women australian open champion christine neil', 'hampered shoulder injury reid served arm arm throughout entire tournament yet still made decider', 'always happy work hard said', 'hoped mercurial nick kyrgios would', 'big fan believer enigmatic canberran reid want see kyrgios career slip away like', 'full effort fail reid said kyrgios', 'full effort nick could live tennis like tomas berdych jo wilfried tsonga consistently making second week quarters semis finals slams hopefully', 'time tell nick still young todd reid still young', 'tragically time ran']\n"
          ]
        },
        {
          "name": "stderr",
          "output_type": "stream",
          "text": [
            "/usr/local/lib/python3.7/dist-packages/ipykernel_launcher.py:2: FutureWarning: The default value of regex will change from True to False in a future version.\n",
            "  \n",
            "[nltk_data] Downloading package stopwords to /root/nltk_data...\n",
            "[nltk_data]   Package stopwords is already up-to-date!\n"
          ]
        }
      ],
      "source": [
        "# Remove punctuations, numbers and special characters\n",
        "clean_sentences = pd.Series(sentences).str.replace(\"[^a-zA-Z]\", \" \").str.replace(\"\\s+\", \" \")\n",
        "\n",
        "# print(clean_sentences)\n",
        "# Make alphabets lowercase\n",
        "clean_sentences = [sentence.lower () for sentence in clean_sentences]\n",
        "# print(clean_sentences)\n",
        "\n",
        "# Remove stopwords\n",
        "nltk.download('stopwords')\n",
        "from nltk.corpus import stopwords\n",
        "\n",
        "stop_words = stopwords.words('english')\n",
        "clean_text = []\n",
        "for sent in clean_sentences:\n",
        "  words = sent.split()\n",
        "  words = [word for word in words if word not in stop_words]\n",
        "  words = \" \".join(words)\n",
        "  clean_text.append(words)\n",
        "print(clean_text)\n",
        "# clean_text = [for sent in clean_sentences for word in sent.split() if word not in stop_words]"
      ]
    },
    {
      "cell_type": "markdown",
      "metadata": {
        "id": "8HjegK4Id4zM"
      },
      "source": [
        "## Create sentence vectors"
      ]
    },
    {
      "cell_type": "code",
      "execution_count": 19,
      "metadata": {
        "id": "fIFo7OIw1nFI"
      },
      "outputs": [],
      "source": [
        "sentence_vectors = []\n",
        "\n",
        "for i in clean_text:\n",
        "  if len(i) != 0:\n",
        "    v = sum([word_embeddings.get(w, np.zeros((100,))) for w in i.split()])/(len(i.split())+0.001)\n",
        "  else:\n",
        "    v = np.zeros((100,))\n",
        "  sentence_vectors.append(v)"
      ]
    },
    {
      "cell_type": "markdown",
      "metadata": {
        "id": "U_DnapWP2_UN"
      },
      "source": [
        "## Similarity matrix"
      ]
    },
    {
      "cell_type": "code",
      "execution_count": 22,
      "metadata": {
        "id": "ZvkgL-AO3IJB"
      },
      "outputs": [],
      "source": [
        "sim_matrix = np.zeros([len(sentences), len(clean_sentences)])"
      ]
    },
    {
      "cell_type": "markdown",
      "metadata": {
        "id": "kZKG8KP33RBR"
      },
      "source": [
        "## Cosine similarity"
      ]
    },
    {
      "cell_type": "code",
      "execution_count": 23,
      "metadata": {
        "id": "VLWbUM_S4eKX"
      },
      "outputs": [],
      "source": [
        "from sklearn.metrics.pairwise import cosine_similarity"
      ]
    },
    {
      "cell_type": "code",
      "execution_count": 24,
      "metadata": {
        "id": "x89pZCzH4nuX"
      },
      "outputs": [],
      "source": [
        "for i in range(len(sentences)):\n",
        "  for j in range(len(sentences)):\n",
        "    if i != j:\n",
        "      sim_matrix[i][j] = cosine_similarity(sentence_vectors[i].reshape(1,100), sentence_vectors[j].reshape(1,100))[0,0]\n"
      ]
    },
    {
      "cell_type": "code",
      "execution_count": 25,
      "metadata": {
        "id": "Pjdl2Xty6Xb9"
      },
      "outputs": [],
      "source": [
        "import networkx as nx\n",
        "nx_graph = nx.from_numpy_array(sim_matrix)\n",
        "scores = nx.pagerank(nx_graph)\n"
      ]
    },
    {
      "cell_type": "markdown",
      "metadata": {
        "id": "3V1G06Me6xsJ"
      },
      "source": [
        "## Summary extraction"
      ]
    },
    {
      "cell_type": "code",
      "execution_count": 26,
      "metadata": {
        "id": "V8-QGTUv6zgu"
      },
      "outputs": [],
      "source": [
        "ranked_sentences = sorted(((scores[i],s) for i,s in enumerate(sentences)), reverse=True)\n",
        "for i in range(5):\n",
        "  print(ranked_sentences[i][1])"
      ]
    }
  ],
  "metadata": {
    "colab": {
      "collapsed_sections": [],
      "provenance": [],
      "toc_visible": true
    },
    "kernelspec": {
      "display_name": "Python 3.10.5 64-bit",
      "language": "python",
      "name": "python3"
    },
    "language_info": {
      "name": "python",
      "version": "3.10.5"
    },
    "vscode": {
      "interpreter": {
        "hash": "767d51c1340bd893661ea55ea3124f6de3c7a262a8b4abca0554b478b1e2ff90"
      }
    }
  },
  "nbformat": 4,
  "nbformat_minor": 0
}
